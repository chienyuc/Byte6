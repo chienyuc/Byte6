{
 "metadata": {
  "name": "",
  "signature": "sha256:385fdbc766133764dca2349ec565762778b14c1b1bff47185bf5e580968f7547"
 },
 "nbformat": 3,
 "nbformat_minor": 0,
 "worksheets": [
  {
   "cells": [
    {
     "cell_type": "code",
     "collapsed": false,
     "input": [
      "import copy\n",
      "# open the file you have downloaded\n",
      "# these files are organized \n",
      "file = open(\"/Users/bunnychang/Downloads/data-master5/Assignments/network5/HepTh.txt\")\n",
      "# this returns an array with one entry for each line ni the file\n",
      "lines = file.readlines()\n",
      "print len(lines)\n",
      "\n",
      "# Note: the format of the snap files is to list a node (identified by a unique number)\n",
      "# and all of the nodes it links to (also identified by numbers), on the same line, separated by tabs."
     ],
     "language": "python",
     "metadata": {},
     "outputs": [
      {
       "output_type": "stream",
       "stream": "stdout",
       "text": [
        "51971\n"
       ]
      }
     ],
     "prompt_number": 30
    },
    {
     "cell_type": "code",
     "collapsed": false,
     "input": [
      "# construct the graph\n",
      "\n",
      "# a set is an unordered collection of unique elements\n",
      "edges = set()\n",
      "\n",
      "# this will store our nodes\n",
      "nodes = {}\n",
      "\n",
      "# divide the line into the node and all of its edges\n",
      "\n",
      "# for each line in the file that was loaded in\n",
      "for line in lines:\n",
      "    # divide the line into the node and all of its edges    \n",
      "    data = line.split()\n",
      "    a = int(data[0])\n",
      "    b = int(data[1])\n",
      "    # add the edge\n",
      "    edges.add((a, b))\n",
      "    # update the count for the number of times we've seen each node\n",
      "    nodes[a] = nodes.get(a, -1) + 1\n",
      "    nodes[b] = nodes.get(b, -1) + 1\n",
      "    \n",
      "print \"number of unique edges\"\n",
      "print len(edges)\n",
      "print \"number of unique nodes\" \n",
      "print len(nodes)"
     ],
     "language": "python",
     "metadata": {},
     "outputs": [
      {
       "output_type": "stream",
       "stream": "stdout",
       "text": [
        "number of unique edges\n",
        "51971\n",
        "number of unique nodes\n",
        "9877\n"
       ]
      }
     ],
     "prompt_number": 31
    },
    {
     "cell_type": "code",
     "collapsed": false,
     "input": [
      "# get the degrees of each node in a set of edges\n",
      "def get_degrees(edges):\n",
      "    degree_counts={}\n",
      "    \n",
      "    # for each pair of nodes (edge) \n",
      "    for i,j in edges:\n",
      "        # increment the count for the number of edges connected\n",
      "        # to each node by one \n",
      "        degree_counts[i] = degree_counts.get(i, 0) + 1\n",
      "        degree_counts[j] = degree_counts.get(j, 0) + 1\n",
      "    return degree_counts\n",
      "\n",
      "# Delete all nodes in delete_nodes from edges\n",
      "def delete_node(edges, delete_nodes):\n",
      "    # construct a new set of edges\n",
      "    new_edges = []\n",
      "    \n",
      "    print \"# of nodes to be deleted\", len(delete_nodes)\n",
      "    \n",
      "    # loop through all the current edges\n",
      "    for i, j in edges:\n",
      "        # if an edges two nodes are not in the\n",
      "        # set of nodes to be deleted\n",
      "        if i not in delete_nodes and j not in delete_nodes:\n",
      "            # append that edge to our new edges\n",
      "            new_edges.append((i,j))\n",
      "    return new_edges\n",
      "\n",
      "# kcore algorithm\n",
      "# We run the kcore algorithm to delete all \n",
      "# the nodes whose cores are less than k\n",
      "# returns a new set of edges and nodes\n",
      "# including only those in the k core.\n",
      "def kcore(edges, k):\n",
      "    # make a complete copy of the edges so we can delete or change \n",
      "    # things without messing up our original\n",
      "    edges = copy.deepcopy(edges)\n",
      "    # now for each pair of nodes, count the number of \n",
      "    degree_counts = get_degrees(edges)\n",
      "    # sort the nodes by degree and return\n",
      "    # only the node numbers (not their degree)\n",
      "    sorted_nodes = sorted(degree_counts, key = degree_counts.get)\n",
      "    print \"largest degree: \", degree_counts[sorted_nodes[0]]\n",
      "    # repeatedly delete all nodes with degrees < k to find the k core\n",
      "    # if we run out of nodes, or the largest count is < k we should stop\n",
      "    while ((len(sorted_nodes) > 0) and (degree_counts[sorted_nodes[0]]<k)):\n",
      "        # collect nodes with degrees < k in to_delete\n",
      "        to_delete = set()\n",
      "        for node in sorted_nodes:\n",
      "            if degree_counts[node]<k:\n",
      "                to_delete.add(node)\n",
      "            else:\n",
      "                break\n",
      "        # delete all edges that include those nodes\n",
      "        edges = delete_node(edges, to_delete) \n",
      "        print \"# of edges left:\",len(edges)\n",
      "        # recount the degrees for this (smaller) graph\n",
      "        degree_counts = get_degrees(edges)\n",
      "        # resort the nodes\n",
      "        sorted_nodes = sorted(degree_counts, key = degree_counts.get)\n",
      "    return edges, sorted_nodes"
     ],
     "language": "python",
     "metadata": {},
     "outputs": [],
     "prompt_number": 32
    },
    {
     "cell_type": "code",
     "collapsed": false,
     "input": [
      "core_edges, core_nodes=kcore(edges, 8)"
     ],
     "language": "python",
     "metadata": {},
     "outputs": [
      {
       "output_type": "stream",
       "stream": "stdout",
       "text": [
        "largest degree:  2\n",
        "# of nodes to be deleted 5571\n",
        "# of edges left: 34590\n",
        "# of nodes to be deleted"
       ]
      },
      {
       "output_type": "stream",
       "stream": "stdout",
       "text": [
        " 734\n",
        "# of edges left: 31553\n",
        "# of nodes to be deleted"
       ]
      },
      {
       "output_type": "stream",
       "stream": "stdout",
       "text": [
        " 174\n",
        "# of edges left: 30633\n",
        "# of nodes to be deleted"
       ]
      },
      {
       "output_type": "stream",
       "stream": "stdout",
       "text": [
        " 64\n",
        "# of edges left: 30299\n",
        "# of nodes to be deleted"
       ]
      },
      {
       "output_type": "stream",
       "stream": "stdout",
       "text": [
        " 26\n",
        "# of edges left: 30151\n",
        "# of nodes to be deleted"
       ]
      },
      {
       "output_type": "stream",
       "stream": "stdout",
       "text": [
        " 13\n",
        "# of edges left: 30073\n",
        "# of nodes to be deleted"
       ]
      },
      {
       "output_type": "stream",
       "stream": "stdout",
       "text": [
        " 7\n",
        "# of edges left: 30041\n",
        "# of nodes to be deleted"
       ]
      },
      {
       "output_type": "stream",
       "stream": "stdout",
       "text": [
        " 1\n",
        "# of edges left: 30037\n",
        "# of nodes to be deleted"
       ]
      },
      {
       "output_type": "stream",
       "stream": "stdout",
       "text": [
        " 1\n",
        "# of edges left: 30031\n",
        "# of nodes to be deleted"
       ]
      },
      {
       "output_type": "stream",
       "stream": "stdout",
       "text": [
        " 1\n",
        "# of edges left: 30025\n"
       ]
      }
     ],
     "prompt_number": 33
    },
    {
     "cell_type": "code",
     "collapsed": false,
     "input": [
      "# We can use this method to create \n",
      "# an adjacency matrix to represent the graph\n",
      "def build_neighborhood(edges, nodes):\n",
      "    neighborhood = {}\n",
      "    for node in nodes:\n",
      "        # create a place to store the neighbors\n",
      "        neighborhood[node]=set()\n",
      "        for edge in edges:\n",
      "            # if either side of the edge contains node\n",
      "            # add the other side as a neighbor\n",
      "            if node == edge[0]:\n",
      "                neighborhood[node].add(edge[1])\n",
      "            if node == edge[1]:\n",
      "                neighborhood[node].add(edge[0])\n",
      "    return neighborhood\n",
      "\n",
      "# This method is used to discover the connected components\n",
      "# The basic idea is Breadth First Search\n",
      "# We start from a node and find all the nodes it can reach\n",
      "# In this way we can get a cluster of nodes which is called\n",
      "# a connected component\n",
      "# to start, we pass in the edges, \n",
      "def get_connected_components(edges, neighborhood, nodes):\n",
      "    result = []\n",
      "    nodes = set(nodes)\n",
      "    # keep track of what we've seen\n",
      "    visited = set()\n",
      "    # loop until there are no more nodes\n",
      "    while nodes:\n",
      "        # grab the first one\n",
      "        node = nodes.pop()\n",
      "        # create a new set for it \n",
      "        component = set()\n",
      "        # start searching from node\n",
      "        queue = [node]\n",
      "        while queue:\n",
      "            # pick a node and mark as visited\n",
      "            node = queue.pop(0)\n",
      "            visited.add(node)\n",
      "            # add it to our connected component\n",
      "            component.add(node)\n",
      "            # find all its neighbors\n",
      "            neighbors = neighborhood[node]\n",
      "            # add them to the queue (if we haven't seen them before)\n",
      "            for neighbor in neighbors:\n",
      "                if neighbor not in visited:\n",
      "                    nodes.discard(neighbor)\n",
      "                    queue.append(neighbor)\n",
      "        result.append(component)\n",
      "    return result"
     ],
     "language": "python",
     "metadata": {},
     "outputs": [],
     "prompt_number": 34
    },
    {
     "cell_type": "code",
     "collapsed": false,
     "input": [
      "neighborhood = build_neighborhood(core_edges, core_nodes)\n",
      "ret = get_connected_components(core_edges, neighborhood, core_nodes)\n",
      "print \"# of connected components\",len(ret)"
     ],
     "language": "python",
     "metadata": {},
     "outputs": [
      {
       "output_type": "stream",
       "stream": "stdout",
       "text": [
        "# of connected components 15\n"
       ]
      }
     ],
     "prompt_number": 35
    },
    {
     "cell_type": "code",
     "collapsed": false,
     "input": [
      "import networkx as nx\n",
      "from networkx.readwrite import json_graph\n",
      "import json\n",
      "\n",
      "# create a graph and add al the edges\n",
      "G=nx.Graph()\n",
      "for edge in edges:\n",
      "    G.add_edge(edge[0],edge[1])\n",
      "\n",
      "nld = json_graph.node_link_data(G)\n",
      "# We store the data in a json file\n",
      "# So the javascript code can read it\n",
      "json.dump(nld, open('force.json','w'))"
     ],
     "language": "python",
     "metadata": {},
     "outputs": [],
     "prompt_number": 39
    },
    {
     "cell_type": "code",
     "collapsed": false,
     "input": [
      "from IPython.display import IFrame\n",
      "\n",
      "# IPython Notebook can serve files and display them into\n",
      "# inline frames. Prepend the path with the 'files' prefix.\n",
      "\n",
      "viz_file = 'force.html'\n",
      "IFrame(viz_file, width=900, height=550)"
     ],
     "language": "python",
     "metadata": {},
     "outputs": [
      {
       "html": [
        "\n",
        "        <iframe\n",
        "            width=\"900\"\n",
        "            height=550\"\n",
        "            src=\"force.html\"\n",
        "            frameborder=\"0\"\n",
        "            allowfullscreen\n",
        "        ></iframe>\n",
        "        "
       ],
       "metadata": {},
       "output_type": "pyout",
       "prompt_number": 40,
       "text": [
        "<IPython.lib.display.IFrame at 0x10aa91310>"
       ]
      }
     ],
     "prompt_number": 40
    },
    {
     "cell_type": "code",
     "collapsed": false,
     "input": [
      "# code to analyze undirected graphs\n",
      "%matplotlib inline\n",
      "from pylab import *\n",
      "import matplotlib.pyplot as plt\n",
      "  \n",
      "# get the degrees for each node (again)\n",
      "nodes = get_degrees(edges)\n",
      "\n",
      "v = nodes.values()\n",
      "# this ensures that we don't have any values more than once\n",
      "noRep = list(set(v))\n",
      "noRep.sort()\n",
      "\n",
      "x = []\n",
      "y = []\n",
      "for count in noRep:\n",
      "    # f is the number of times this value occurs\n",
      "    f = v.count(count)\n",
      "    x.append(count)\n",
      "    y.append(f)\n",
      "figure()\n",
      "loglog(x, y, '*')\n",
      "xlabel('x')\n",
      "ylabel('y')\n",
      "title('power law plot')\n",
      "show()"
     ],
     "language": "python",
     "metadata": {},
     "outputs": [
      {
       "metadata": {},
       "output_type": "display_data",
       "png": "[encoded data removed]",
       "text": [
        "<matplotlib.figure.Figure at 0x10c875490>"
       ]
      }
     ],
     "prompt_number": 36
    },
    {
     "cell_type": "code",
     "collapsed": false,
     "input": [
      "# code to analyze directed graphs\n",
      "file = open(\"/Users/bunnychang/Downloads/data-master5/Assignments/network5/HepTh.txt\")\n",
      "lines = file.readlines()\n",
      "edges = set()\n",
      "nodes_indegree = {}\n",
      "nodes_outdegree = {}\n",
      "\n",
      "# construct the indegree info and edges\n",
      "# very similar to what we did for directed graphs\n",
      "for line in lines:\n",
      "    data = line.split()\n",
      "    source = int(data[0])\n",
      "    endpoint = int(data[1])\n",
      "    # add the edge\n",
      "    edges.add((source, endpoint))\n",
      "    # update the count for the number of times we've seen each node\n",
      "    nodes_indegree[source] = nodes_indegree.get(source, -1) + 1\n",
      "    nodes_outdegree[endpoint] = nodes_outdegree.get(endpoint, -1) + 1\n",
      "\n",
      "%matplotlib inline\n",
      "from pylab import *\n",
      "import matplotlib.pyplot as plt\n",
      "\n",
      "# now show this to the viewer\n",
      "v_indegree = nodes_indegree.values()\n",
      "v_outdegree = nodes_outdegree.values()\n",
      "noRep_indegree = list(set(v_indegree))\n",
      "noRep_outdegree = list(set(v_outdegree))\n",
      "noRep_indegree.sort()\n",
      "noRep_outdegree.sort()\n",
      "\n",
      "x_indegree = []\n",
      "y_indegree = []\n",
      "x_outdegree = []\n",
      "y_outdegree = []\n",
      "\n",
      "for count in noRep_indegree:\n",
      "    f = v_indegree.count(count)\n",
      "    x_indegree.append(count)\n",
      "    y_indegree.append(f)\n",
      "    \n",
      "for count in noRep_outdegree:\n",
      "    f = v_outdegree.count(count)\n",
      "    x_outdegree.append(count)\n",
      "    y_outdegree.append(f)\n",
      "    \n",
      "figure()\n",
      "loglog(x_indegree, y_indegree, '*')\n",
      "xlabel('x')\n",
      "ylabel('y')\n",
      "title('indegree distribution')\n",
      "show()   \n",
      "\n",
      "figure()\n",
      "loglog(x_outdegree, y_outdegree, '*')\n",
      "xlabel('x')\n",
      "ylabel('y')\n",
      "title('outdegree distribution')\n",
      "show()"
     ],
     "language": "python",
     "metadata": {},
     "outputs": [
      {
       "metadata": {},
       "output_type": "display_data",
       "png": "[encoded data removed]",
       "text": [
        "<matplotlib.figure.Figure at 0x10925f350>"
       ]
      },
      {
       "metadata": {},
       "output_type": "display_data",
       "png": "[encoded data removed]",
       "text": [
        "<matplotlib.figure.Figure at 0x10aad03d0>"
       ]
      }
     ],
     "prompt_number": 38
    },
    {
     "cell_type": "code",
     "collapsed": false,
     "input": [],
     "language": "python",
     "metadata": {},
     "outputs": []
    }
   ],
   "metadata": {}
  }
 ]
}